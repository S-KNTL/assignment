{
 "cells": [
  {
   "cell_type": "markdown",
   "id": "ef597bc4-0b13-4a5e-aaeb-b2e826a1500c",
   "metadata": {},
   "source": [
    "Q.1 :-\n",
    "ANS :- VARIABLE"
   ]
  },
  {
   "cell_type": "code",
   "execution_count": 1,
   "id": "43ca8ccc-f8d7-4985-8d9a-41eedd3f12d9",
   "metadata": {},
   "outputs": [],
   "source": [
    "s1 = \"frist work \""
   ]
  },
  {
   "cell_type": "code",
   "execution_count": 2,
   "id": "88164e23-059e-43e2-afa1-54970219387a",
   "metadata": {},
   "outputs": [
    {
     "data": {
      "text/plain": [
       "str"
      ]
     },
     "execution_count": 2,
     "metadata": {},
     "output_type": "execute_result"
    }
   ],
   "source": [
    "type(s1)"
   ]
  },
  {
   "cell_type": "code",
   "execution_count": 4,
   "id": "1225bf1f-2b8d-45c2-9a7e-c7a90320eaa4",
   "metadata": {},
   "outputs": [],
   "source": [
    "# a list ex."
   ]
  },
  {
   "cell_type": "code",
   "execution_count": 3,
   "id": "f6db6c67-4d71-42d9-90af-01a9719c2c47",
   "metadata": {},
   "outputs": [],
   "source": [
    "s2 = [34,54.54,\"frist list\",True,False,~4]"
   ]
  },
  {
   "cell_type": "code",
   "execution_count": null,
   "id": "23ed3bb4-ac10-4095-816a-b180be3a336d",
   "metadata": {},
   "outputs": [],
   "source": [
    "# a tuple and they have im"
   ]
  },
  {
   "cell_type": "code",
   "execution_count": 3,
   "id": "39b7f12e-fb1d-4aae-9bca-26031cc1ff7c",
   "metadata": {},
   "outputs": [],
   "source": [
    "s3 =('frist tuple',23,65.54,[87,766.87])"
   ]
  },
  {
   "cell_type": "code",
   "execution_count": 4,
   "id": "9e5f2e29-8c3b-414f-b571-7d18ddf2019f",
   "metadata": {},
   "outputs": [
    {
     "data": {
      "text/plain": [
       "tuple"
      ]
     },
     "execution_count": 4,
     "metadata": {},
     "output_type": "execute_result"
    }
   ],
   "source": [
    "type(s3)"
   ]
  },
  {
   "cell_type": "code",
   "execution_count": 41,
   "id": "d8d100f0-cf02-400b-aab2-a1f3c6479291",
   "metadata": {},
   "outputs": [],
   "source": [
    "one_varible_for_all = [\"student\",('frist tuple',23,65.54,[87,766.87]),34.56]\n"
   ]
  },
  {
   "cell_type": "code",
   "execution_count": 47,
   "id": "c06965ac-c97f-4757-9031-c63968203c1d",
   "metadata": {},
   "outputs": [
    {
     "data": {
      "text/plain": [
       "tuple"
      ]
     },
     "execution_count": 47,
     "metadata": {},
     "output_type": "execute_result"
    }
   ],
   "source": [
    "type(one_varible_for_all[1])"
   ]
  },
  {
   "cell_type": "markdown",
   "id": "7b760a31-c3c6-4d30-84d3-511833ca0a4f",
   "metadata": {},
   "source": [
    "Q 2\n",
    "ANS :-"
   ]
  },
  {
   "cell_type": "code",
   "execution_count": null,
   "id": "b768615f-7d91-4746-8a98-c8a7faba7860",
   "metadata": {},
   "outputs": [],
   "source": [
    "var1 = ' '"
   ]
  },
  {
   "cell_type": "code",
   "execution_count": null,
   "id": "df5a2612-ade8-4eb5-b465-eb7ce44a30ca",
   "metadata": {},
   "outputs": [],
   "source": [
    "# this is a string"
   ]
  },
  {
   "cell_type": "code",
   "execution_count": 3,
   "id": "2fe9d418-8400-4c92-8c81-80385bfa08b9",
   "metadata": {},
   "outputs": [
    {
     "data": {
      "text/plain": [
       "str"
      ]
     },
     "execution_count": 3,
     "metadata": {},
     "output_type": "execute_result"
    }
   ],
   "source": [
    "var2 = '[ds, ml,python]'\n",
    "type(var2)"
   ]
  },
  {
   "cell_type": "code",
   "execution_count": 4,
   "id": "ddd7ad08-1577-4be5-b73e-064d93e15beb",
   "metadata": {},
   "outputs": [
    {
     "data": {
      "text/plain": [
       "str"
      ]
     },
     "execution_count": 4,
     "metadata": {},
     "output_type": "execute_result"
    }
   ],
   "source": [
    "# var2 is also a string"
   ]
  },
  {
   "cell_type": "code",
   "execution_count": 2,
   "id": "198d98ae-fb61-4753-80e3-da31ca081881",
   "metadata": {},
   "outputs": [
    {
     "data": {
      "text/plain": [
       "list"
      ]
     },
     "execution_count": 2,
     "metadata": {},
     "output_type": "execute_result"
    }
   ],
   "source": [
    "var3 = ['ds','ml','python']\n",
    "type(var3)"
   ]
  },
  {
   "cell_type": "code",
   "execution_count": null,
   "id": "a749244e-fcb4-4edf-b858-6efa9641d541",
   "metadata": {},
   "outputs": [],
   "source": [
    "# var3 is a list"
   ]
  },
  {
   "cell_type": "code",
   "execution_count": 4,
   "id": "6c02bbb5-f426-45bf-aaf3-f231c22a8665",
   "metadata": {},
   "outputs": [
    {
     "data": {
      "text/plain": [
       "float"
      ]
     },
     "execution_count": 4,
     "metadata": {},
     "output_type": "execute_result"
    }
   ],
   "source": [
    "var4 = 1.\n",
    "type(var4)"
   ]
  },
  {
   "cell_type": "code",
   "execution_count": 10,
   "id": "3c11940b-dbe1-4c03-950b-067180e08ffa",
   "metadata": {},
   "outputs": [
    {
     "data": {
      "text/plain": [
       "float"
      ]
     },
     "execution_count": 10,
     "metadata": {},
     "output_type": "execute_result"
    }
   ],
   "source": [
    "# var4 is a float value"
   ]
  },
  {
   "cell_type": "code",
   "execution_count": null,
   "id": "aaede8ef-e39c-4a62-bf2a-26e0919a51eb",
   "metadata": {},
   "outputs": [],
   "source": []
  },
  {
   "cell_type": "markdown",
   "id": "0a81eb77-5751-434b-bd9c-a54f94b450f3",
   "metadata": {},
   "source": [
    "Q3 ANS :-"
   ]
  },
  {
   "cell_type": "code",
   "execution_count": 28,
   "id": "ce3894cc-3543-4f60-b793-e823696a9ea6",
   "metadata": {},
   "outputs": [
    {
     "name": "stdout",
     "output_type": "stream",
     "text": [
      "5.0 this is for divide\n"
     ]
    }
   ],
   "source": [
    "# 1 \n",
    "x = 10\n",
    "y = 2\n",
    "z = x/y\n",
    "print(z,\"this is for divide\")"
   ]
  },
  {
   "cell_type": "code",
   "execution_count": 31,
   "id": "d019c1cc-6955-485b-9f93-324a14321eae",
   "metadata": {},
   "outputs": [
    {
     "name": "stdout",
     "output_type": "stream",
     "text": [
      "1 this is modulo operator and it use for getting remainder\n"
     ]
    }
   ],
   "source": [
    "# 2\n",
    "x = 15\n",
    "y = 2\n",
    "z = x%y\n",
    "print(z,\"this is modulo operator and it use for getting remainder\")"
   ]
  },
  {
   "cell_type": "code",
   "execution_count": 33,
   "id": "67b9783f-b197-4d78-a36d-6724e863e3c7",
   "metadata": {},
   "outputs": [
    {
     "name": "stdout",
     "output_type": "stream",
     "text": [
      "-8 this is floor division oprator\n"
     ]
    }
   ],
   "source": [
    "#3\n",
    "x = -15\n",
    "y = 2\n",
    "z = x//y\n",
    "print(z,\"this is floor division oprator\")"
   ]
  },
  {
   "cell_type": "code",
   "execution_count": 39,
   "id": "d8f613e1-2c5e-441f-93b3-9ac678ed3f1d",
   "metadata": {},
   "outputs": [
    {
     "name": "stdout",
     "output_type": "stream",
     "text": [
      "32 this is exponent operator\n"
     ]
    }
   ],
   "source": [
    "#4\n",
    "x = 2\n",
    "y = 5\n",
    "z = x**y\n",
    "print(z,\"this is exponent operator\") "
   ]
  },
  {
   "cell_type": "code",
   "execution_count": 38,
   "id": "1488cdbd-0f9f-442d-a7af-dd4c00bf0a9a",
   "metadata": {},
   "outputs": [
    {
     "data": {
      "text/plain": [
       "32"
      ]
     },
     "execution_count": 38,
     "metadata": {},
     "output_type": "execute_result"
    }
   ],
   "source": []
  },
  {
   "cell_type": "markdown",
   "id": "c9d3d0c0-69cf-421c-9cd9-d950a0eec21d",
   "metadata": {},
   "source": [
    "Q 4 \n",
    "ANS :-"
   ]
  },
  {
   "cell_type": "code",
   "execution_count": 48,
   "id": "39fc7abe-5e75-47a7-b349-c5ed692cb70c",
   "metadata": {},
   "outputs": [
    {
     "name": "stdout",
     "output_type": "stream",
     "text": [
      "1 <class 'int'>\n",
      "2 <class 'int'>\n",
      "3.4 <class 'float'>\n",
      "True <class 'bool'>\n",
      "False <class 'bool'>\n",
      "work done <class 'str'>\n",
      "99.767 <class 'float'>\n",
      "pw skills <class 'str'>\n",
      "333 <class 'int'>\n",
      "33.88 <class 'float'>\n"
     ]
    }
   ],
   "source": [
    "myLIst = [1,2,3.4,True,False,'work done',99.767,'pw skills',333,33.88]\n",
    "for i in myLIst :\n",
    "    print(i , type(i))"
   ]
  },
  {
   "cell_type": "code",
   "execution_count": null,
   "id": "38daefce-f709-4d5a-9039-f3d6c226f254",
   "metadata": {},
   "outputs": [],
   "source": []
  },
  {
   "cell_type": "markdown",
   "id": "8ca25cce-6d04-4439-98d4-8ec3053b2fc2",
   "metadata": {},
   "source": [
    "Q 5 \n",
    "ANS :-"
   ]
  },
  {
   "cell_type": "code",
   "execution_count": 7,
   "id": "56bf5e03-2273-4ced-9dbc-1acd7a99d3d4",
   "metadata": {},
   "outputs": [
    {
     "name": "stdin",
     "output_type": "stream",
     "text": [
      "enter your dividend :  12\n",
      "enter your divisor :  5\n"
     ]
    },
    {
     "name": "stdout",
     "output_type": "stream",
     "text": [
      "number A is not purely divisible by B \n"
     ]
    }
   ],
   "source": [
    "x = int(input(\"enter your dividend : \"))\n",
    "y = int(input(\"enter your divisor : \"))\n",
    "\n",
    "while (x % y == 0) :\n",
    "    if (x % y == 0): \n",
    "        z = x/y\n",
    "        print(z,\"-times\")\n",
    "        x +=1\n",
    "else :\n",
    "    print(\"number A is not purely divisible by B \")\n",
    "    "
   ]
  },
  {
   "cell_type": "code",
   "execution_count": null,
   "id": "689efb8e-91da-4dce-95ba-43ceb865ce4c",
   "metadata": {},
   "outputs": [],
   "source": [
    "2/12"
   ]
  },
  {
   "cell_type": "raw",
   "id": "6701ba70-e01f-45bc-84ef-ba4887d7a48e",
   "metadata": {},
   "source": [
    "Q 6 \n",
    "ANS:-"
   ]
  },
  {
   "cell_type": "code",
   "execution_count": 8,
   "id": "48b5931e-99b9-4f78-8574-e338ca3ea6ff",
   "metadata": {},
   "outputs": [
    {
     "name": "stdout",
     "output_type": "stream",
     "text": [
      "1 the no.is not divisible by 3\n",
      "2 the no.is not divisible by 3\n",
      "3 no. is divisible by 3\n",
      "4 the no.is not divisible by 3\n",
      "5 the no.is not divisible by 3\n",
      "6 no. is divisible by 3\n",
      "7 the no.is not divisible by 3\n",
      "8 the no.is not divisible by 3\n",
      "9 no. is divisible by 3\n",
      "10 the no.is not divisible by 3\n",
      "11 the no.is not divisible by 3\n",
      "12 no. is divisible by 3\n",
      "13 the no.is not divisible by 3\n",
      "14 the no.is not divisible by 3\n",
      "15 no. is divisible by 3\n",
      "16 the no.is not divisible by 3\n",
      "17 the no.is not divisible by 3\n",
      "18 no. is divisible by 3\n",
      "19 the no.is not divisible by 3\n",
      "20 the no.is not divisible by 3\n",
      "21 no. is divisible by 3\n",
      "22 the no.is not divisible by 3\n",
      "23 the no.is not divisible by 3\n",
      "24 no. is divisible by 3\n",
      "25 the no.is not divisible by 3\n"
     ]
    }
   ],
   "source": [
    "mylist = [1,2,3,4,5,6,7,8,9,10,11,12,13,14,15,16,17,18,19,20,21,22,23,24,25]\n",
    "for i in mylist :\n",
    "    if i % 3 == 0 :\n",
    "        print(i,\"no. is divisible by 3\")\n",
    "    else :\n",
    "        print(i,\"the no.is not divisible by 3\")"
   ]
  },
  {
   "cell_type": "markdown",
   "id": "71eb65fe-651d-4742-83da-f14c8ba47b78",
   "metadata": {},
   "source": [
    "second way"
   ]
  },
  {
   "cell_type": "code",
   "execution_count": 20,
   "id": "7c27b47e-7101-4ad1-8027-fd32a02a7cb9",
   "metadata": {},
   "outputs": [],
   "source": [
    "mylist = [1,2,3,4,5,6,7,8,9,10,11,12,13,14,15,16,17,18,19,20,21,22,23,24,25]\n",
    "l1 = []\n",
    "l2 = []\n",
    "for i in mylist :\n",
    "    if i % 3 == 0 :\n",
    "        l1.append(i)\n",
    "    elif i % 3 != 0 :\n",
    "        l2.append(i)\n"
   ]
  },
  {
   "cell_type": "code",
   "execution_count": 21,
   "id": "e10dfc5b-c350-4db1-9222-19063f2f40f2",
   "metadata": {},
   "outputs": [
    {
     "data": {
      "text/plain": [
       "[3, 6, 9, 12, 15, 18, 21, 24]"
      ]
     },
     "execution_count": 21,
     "metadata": {},
     "output_type": "execute_result"
    }
   ],
   "source": [
    "l1"
   ]
  },
  {
   "cell_type": "code",
   "execution_count": 22,
   "id": "6d2239c9-4449-4d2f-afd2-f093712d2ed2",
   "metadata": {},
   "outputs": [
    {
     "data": {
      "text/plain": [
       "[1, 2, 4, 5, 7, 8, 10, 11, 13, 14, 16, 17, 19, 20, 22, 23, 25]"
      ]
     },
     "execution_count": 22,
     "metadata": {},
     "output_type": "execute_result"
    }
   ],
   "source": [
    "l2"
   ]
  },
  {
   "cell_type": "raw",
   "id": "95acbb8f-efb7-4904-8bbb-05017b6e2504",
   "metadata": {},
   "source": [
    "Q7.  mutable and imutable objects\n",
    "ans:- \n",
    "mutable :-that kind of object  can be modify, update,append,add,del ...etc\n",
    "        like :- list ,dict,sets..etc\n",
    "\n"
   ]
  },
  {
   "cell_type": "code",
   "execution_count": null,
   "id": "42423463-d780-4cea-88be-2baa9b67abb6",
   "metadata": {},
   "outputs": [],
   "source": [
    "mutableobject = [1,2,3,4,\"pw skills\"]"
   ]
  },
  {
   "cell_type": "raw",
   "id": "433a03e3-83ca-4da4-9cb1-a3f90857962e",
   "metadata": {},
   "source": [
    "imutabe:- we can't change ,del,add,modify,append ...the object after running\n",
    "         like:- int,float,tuple,unicode,str..etc"
   ]
  },
  {
   "cell_type": "code",
   "execution_count": null,
   "id": "af1856c6-2ade-4db9-9f3e-97af35499062",
   "metadata": {},
   "outputs": [],
   "source": [
    "imutable_object =('frist tuple',23,65.54,[87,766.87])"
   ]
  },
  {
   "cell_type": "code",
   "execution_count": null,
   "id": "12625691-3a62-49db-b376-894c683b303d",
   "metadata": {},
   "outputs": [],
   "source": []
  },
  {
   "cell_type": "code",
   "execution_count": null,
   "id": "14a5c86b-7f1c-4217-8636-1d3e8c256b29",
   "metadata": {},
   "outputs": [],
   "source": []
  }
 ],
 "metadata": {
  "kernelspec": {
   "display_name": "Python 3 (ipykernel)",
   "language": "python",
   "name": "python3"
  },
  "language_info": {
   "codemirror_mode": {
    "name": "ipython",
    "version": 3
   },
   "file_extension": ".py",
   "mimetype": "text/x-python",
   "name": "python",
   "nbconvert_exporter": "python",
   "pygments_lexer": "ipython3",
   "version": "3.10.8"
  }
 },
 "nbformat": 4,
 "nbformat_minor": 5
}
